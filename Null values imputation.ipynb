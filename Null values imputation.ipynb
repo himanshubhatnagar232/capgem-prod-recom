{
 "cells": [
  {
   "cell_type": "markdown",
   "metadata": {},
   "source": [
    "# Null Values Imputation"
   ]
  },
  {
   "cell_type": "markdown",
   "metadata": {},
   "source": [
    "## Load dataset"
   ]
  },
  {
   "cell_type": "code",
   "execution_count": 1,
   "metadata": {},
   "outputs": [],
   "source": [
    "import pandas as pd\n",
    "df_electronics = pd.read_csv('electronics.csv')\n",
    "df_modcloth = pd.read_csv('modcloth.csv')"
   ]
  },
  {
   "cell_type": "markdown",
   "metadata": {},
   "source": [
    "## Impute the data\n",
    "\n",
    "For the prototype, we will drop the features with high null value percentage, and in others replace the null values with another feature value like \"Unknown Size\" for `size` feature."
   ]
  },
  {
   "cell_type": "code",
   "execution_count": 4,
   "metadata": {},
   "outputs": [],
   "source": [
    "def null_percentage(df):\n",
    "    total_rows = df.shape[0]\n",
    "    for c in df.columns:\n",
    "        null_count = df[c].isna().sum()\n",
    "        print(\"Column : \",c,\" , Null values percentage : \",(null_count/total_rows)*100)"
   ]
  },
  {
   "cell_type": "markdown",
   "metadata": {},
   "source": [
    "### Electronics dataset"
   ]
  },
  {
   "cell_type": "code",
   "execution_count": 5,
   "metadata": {},
   "outputs": [
    {
     "name": "stdout",
     "output_type": "stream",
     "text": [
      "Column :  item_id  , Null values percentage :  0.0\n",
      "Column :  user_id  , Null values percentage :  0.0\n",
      "Column :  rating  , Null values percentage :  0.0\n",
      "Column :  timestamp  , Null values percentage :  0.0\n",
      "Column :  model_attr  , Null values percentage :  0.0\n",
      "Column :  category  , Null values percentage :  0.0\n",
      "Column :  brand  , Null values percentage :  74.39042688293628\n",
      "Column :  year  , Null values percentage :  0.0\n",
      "Column :  user_attr  , Null values percentage :  86.53285422373882\n",
      "Column :  split  , Null values percentage :  0.0\n"
     ]
    }
   ],
   "source": [
    "null_percentage(df_electronics)"
   ]
  },
  {
   "cell_type": "code",
   "execution_count": 2,
   "metadata": {},
   "outputs": [],
   "source": [
    "# electronics.csv\n",
    "df_electronics_cleaned = pd.DataFrame()\n",
    "\n",
    "# init columns that have no null values\n",
    "df_electronics_cleaned['item_id'] = df_electronics['item_id']\n",
    "df_electronics_cleaned['user_id'] = df_electronics['user_id']\n",
    "df_electronics_cleaned['rating'] = df_electronics['rating']\n",
    "df_electronics_cleaned['timestamp'] = df_electronics['timestamp']\n",
    "df_electronics_cleaned['model_attr'] = df_electronics['model_attr']\n",
    "df_electronics_cleaned['category'] = df_electronics['category']\n",
    "df_electronics_cleaned['year'] = df_electronics['year']\n",
    "df_electronics_cleaned['split'] = df_electronics['split']\n",
    "\n",
    "# column name : brand => drop for now\n",
    "#df_electronics_cleaned['brand'] = df_electronics['brand'].fillna(\"Unknown Brand\")\n",
    "\n",
    "# column name : user_attr => drop for now\n",
    "#df_electronics_cleaned['user_attr'] = df_electronics['user_attr'].fillna(\"Unknown Gender\")"
   ]
  },
  {
   "cell_type": "code",
   "execution_count": 5,
   "metadata": {},
   "outputs": [
    {
     "name": "stdout",
     "output_type": "stream",
     "text": [
      "Column :  item_id  , Null values percentage :  0.0\n",
      "Column :  user_id  , Null values percentage :  0.0\n",
      "Column :  rating  , Null values percentage :  0.0\n",
      "Column :  timestamp  , Null values percentage :  0.0\n",
      "Column :  model_attr  , Null values percentage :  0.0\n",
      "Column :  category  , Null values percentage :  0.0\n",
      "Column :  year  , Null values percentage :  0.0\n",
      "Column :  split  , Null values percentage :  0.0\n"
     ]
    }
   ],
   "source": [
    "null_percentage(df_electronics_cleaned)"
   ]
  },
  {
   "cell_type": "markdown",
   "metadata": {},
   "source": [
    "### Clothing dataset"
   ]
  },
  {
   "cell_type": "code",
   "execution_count": 9,
   "metadata": {},
   "outputs": [
    {
     "name": "stdout",
     "output_type": "stream",
     "text": [
      "Column :  item_id  , Null values percentage :  0.0\n",
      "Column :  user_id  , Null values percentage :  0.0010010711461263552\n",
      "Column :  rating  , Null values percentage :  0.0\n",
      "Column :  timestamp  , Null values percentage :  0.0\n",
      "Column :  size  , Null values percentage :  21.78330813970949\n",
      "Column :  fit  , Null values percentage :  18.52582263021433\n",
      "Column :  user_attr  , Null values percentage :  8.375962279639214\n",
      "Column :  model_attr  , Null values percentage :  0.0\n",
      "Column :  category  , Null values percentage :  0.0\n",
      "Column :  brand  , Null values percentage :  74.05924339042775\n",
      "Column :  year  , Null values percentage :  0.0\n",
      "Column :  split  , Null values percentage :  0.0\n"
     ]
    }
   ],
   "source": [
    "null_percentage(df_modcloth)"
   ]
  },
  {
   "cell_type": "code",
   "execution_count": 6,
   "metadata": {},
   "outputs": [],
   "source": [
    "# modcloth.csv\n",
    "df_modcloth_cleaned = pd.DataFrame()\n",
    "\n",
    "# init columns that have no null values\n",
    "df_modcloth_cleaned['item_id'] = df_modcloth['item_id']\n",
    "df_modcloth_cleaned['user_id'] = df_modcloth['user_id']\n",
    "df_modcloth_cleaned['rating'] = df_modcloth['rating']\n",
    "df_modcloth_cleaned['timestamp'] = df_modcloth['timestamp']\n",
    "df_modcloth_cleaned['model_attr'] = df_modcloth['model_attr']\n",
    "df_modcloth_cleaned['category'] = df_modcloth['category']\n",
    "df_modcloth_cleaned['year'] = df_modcloth['year']\n",
    "df_modcloth_cleaned['split'] = df_modcloth['split']\n",
    "\n",
    "# column name : size => replace null value with a new value\n",
    "df_modcloth_cleaned['size'] = df_modcloth['size'].fillna(\"Unknown Size\")\n",
    "\n",
    "# column name : fit => replace null value with a new value\n",
    "df_modcloth_cleaned['fit'] = df_modcloth['fit'].fillna(\"Unknown Fit\")\n",
    "\n",
    "# column name : user_attr => replace null value with a new value\n",
    "df_modcloth_cleaned['user_attr'] = df_modcloth['user_attr'].fillna(\"Unknown User Attribute\")\n",
    "\n",
    "# column name : brand => drop for now\n",
    "#df_modcloth_cleaned['brand'] = df_modcloth['brand'].fillna(\"Unknown Brand\")\n",
    "\n",
    "# user id => drop the records with null value of user_id\n",
    "df_modcloth_cleaned.dropna(inplace = True)"
   ]
  },
  {
   "cell_type": "code",
   "execution_count": 7,
   "metadata": {},
   "outputs": [
    {
     "name": "stdout",
     "output_type": "stream",
     "text": [
      "Column :  item_id  , Null values percentage :  0.0\n",
      "Column :  user_id  , Null values percentage :  0.0\n",
      "Column :  rating  , Null values percentage :  0.0\n",
      "Column :  timestamp  , Null values percentage :  0.0\n",
      "Column :  model_attr  , Null values percentage :  0.0\n",
      "Column :  category  , Null values percentage :  0.0\n",
      "Column :  year  , Null values percentage :  0.0\n",
      "Column :  split  , Null values percentage :  0.0\n",
      "Column :  size  , Null values percentage :  0.0\n",
      "Column :  fit  , Null values percentage :  0.0\n",
      "Column :  user_attr  , Null values percentage :  0.0\n"
     ]
    }
   ],
   "source": [
    "null_percentage(df_modcloth_cleaned)"
   ]
  },
  {
   "cell_type": "markdown",
   "metadata": {},
   "source": [
    "## Save datasets"
   ]
  },
  {
   "cell_type": "code",
   "execution_count": 8,
   "metadata": {},
   "outputs": [],
   "source": [
    "# save cleaned datasets to CSV\n",
    "df_electronics_cleaned.to_csv('electronics_nonull.csv',index=False)\n",
    "df_modcloth_cleaned.to_csv('modcloth_nonull.csv',index=False)"
   ]
  }
 ],
 "metadata": {
  "kernelspec": {
   "display_name": "Python 3",
   "language": "python",
   "name": "python3"
  },
  "language_info": {
   "codemirror_mode": {
    "name": "ipython",
    "version": 3
   },
   "file_extension": ".py",
   "mimetype": "text/x-python",
   "name": "python",
   "nbconvert_exporter": "python",
   "pygments_lexer": "ipython3",
   "version": "3.7.3"
  }
 },
 "nbformat": 4,
 "nbformat_minor": 2
}
